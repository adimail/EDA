{
 "cells": [
  {
   "cell_type": "markdown",
   "id": "a6c5c914-b400-4602-87f7-41c5ef5b54af",
   "metadata": {},
   "source": [
    "## Content\n",
    "\n",
    "- [Introduction](#1)\n",
    "- [Data cleaning](#2)\n",
    "- [Data integration](#3)\n",
    "- [Data reduction](#4)\n",
    "- [Data transformation](#5)\n",
    "- [Handling Noisy Data](#6)"
   ]
  },
  {
   "cell_type": "markdown",
   "id": "7feecf69-3a01-461e-b78d-38106ff7c274",
   "metadata": {},
   "source": [
    "# <a id='1'>Introduction</a>  "
   ]
  },
  {
   "cell_type": "markdown",
   "id": "ad076089-5a8f-4d43-a4e9-b1ef5a45addc",
   "metadata": {},
   "source": [
    "## Data Cleaning\n",
    "- Data cleaning is the process of removing incorrect data, incomplete data, and inaccurate data from the datasets, and it also replaces the missing values. Here are some techniques for data cleaning:\n",
    "\n",
    "### Handling Missing Values\n",
    "- Standard values like “Not Available” or “NA” can be used to replace the missing values.\n",
    "- Missing values can also be filled manually, but it is not recommended when that dataset is big.\n",
    "- The attribute’s mean value can be used to replace the missing value when the data is normally distributed\n",
    "- wherein in the case of non-normal distribution median value of the attribute can be used.\n",
    "- While using regression or decision tree algorithms, the missing value can be replaced by the most probable value.\n",
    "\n",
    "### Handling Noisy Data\n",
    "Noisy generally means random error or containing unnecessary data points. Handling noisy data is one of the most important steps as it leads to the optimization of the model we are using Here are some of the methods to handle noisy data.\n",
    "\n",
    "- Binning: This method is to smooth or handle noisy data. First, the data is sorted then, and then the sorted values are separated and stored in the form of bins. There are three methods for smoothing data in the bin. Smoothing by bin mean method: In this method, the values in the bin are replaced by the mean value of the bin; Smoothing by bin median: In this method, the values in the bin are replaced by the median value; Smoothing by bin boundary: In this method, the using minimum and maximum values of the bin values are taken, and the closest boundary value replaces the values.\n",
    "- Regression: This is used to smooth the data and will help to handle data when unnecessary data is present. For the analysis, purpose regression helps to decide the variable which is suitable for our analysis.\n",
    "- Clustering: This is used for finding the outliers and also in grouping the data. Clustering is generally used in unsupervised learning.\n",
    "\n",
    "### Data Integration\n",
    "The process of combining multiple sources into a single dataset. The Data integration process is one of the main components of data management. There are some problems to be considered during data integration.\n",
    "\n",
    "- Schema integration: Integrates metadata(a set of data that describes other data) from different sources.\n",
    "- Entity identification problem: Identifying entities from multiple databases. For example, the system or the user should know the student id of one database and studentname of another database belonging to the same entity.\n",
    "- Detecting and resolving data value concepts: The data taken from different databases while merging may differ. The attribute values from one database may differ from another database. For example, the date format may differ, like “MM/DD/YYYY” or “DD/MM/YYYY”.\n",
    "\n",
    "### Data Reduction\n",
    "This process helps in the reduction of the volume of the data, which makes the analysis easier yet produces the same or almost the same result. This reduction also helps to reduce storage space. Some of the data reduction techniques are dimensionality reduction, numerosity reduction, and data compression.\n",
    "\n",
    "- Dimensionality reduction: This process is necessary for real-world applications as the data size is big. In this process, the reduction of random variables or attributes is done so that the dimensionality of the data set can be reduced. Combining and merging the attributes of the data without losing its original characteristics. This also helps in the reduction of storage space, and computation time is reduced. When the data is highly dimensional, a problem called the “Curse of Dimensionality” occurs.\n",
    "- Numerosity Reduction: In this method, the representation of the data is made smaller by reducing the volume. There will not be any loss of data in this reduction.\n",
    "- Data compression: The compressed form of data is called data compression. This compression can be lossless or lossy. When there is no loss of information during compression, it is called lossless compression. Whereas lossy compression reduces information, but it removes only the unnecessary information.\n",
    "\n",
    "### Data Transformation\n",
    "The change made in the format or the structure of the data is called data transformation. This step can be simple or complex based on the requirements. There are some methods for data transformation.\n",
    "\n",
    "- Smoothing: With the help of algorithms, we can remove noise from the dataset, which helps in knowing the important features of the dataset. By smoothing, we can find even a simple change that helps in prediction.\n",
    "- Aggregation: In this method, the data is stored and presented in the form of a summary. The data set, which is from multiple sources, is integrated into with data analysis description. This is an important step since the accuracy of the data depends on the quantity and quality of the data. When the quality and the quantity of the data are good, the results are more relevant.\n",
    "- Discretization: The continuous data here is split into intervals. Discretization reduces the data size. For example, rather than specifying the class time, we can set an interval like (3 pm-5 pm, or 6 pm-8 pm).\n",
    "- Normalization: It is the method of scaling the data so that it can be represented in a smaller range. Example ranging from -1.0 to 1.0."
   ]
  }
 ],
 "metadata": {
  "kernelspec": {
   "display_name": "Python 3 (ipykernel)",
   "language": "python",
   "name": "python3"
  },
  "language_info": {
   "codemirror_mode": {
    "name": "ipython",
    "version": 3
   },
   "file_extension": ".py",
   "mimetype": "text/x-python",
   "name": "python",
   "nbconvert_exporter": "python",
   "pygments_lexer": "ipython3",
   "version": "3.11.4"
  }
 },
 "nbformat": 4,
 "nbformat_minor": 5
}
